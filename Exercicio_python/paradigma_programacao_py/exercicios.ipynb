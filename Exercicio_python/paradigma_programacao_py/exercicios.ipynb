{
 "cells": [
  {
   "attachments": {},
   "cell_type": "markdown",
   "metadata": {},
   "source": [
    "Escreva um programa que leia 3 notas de um aluno e a média das notas dos exercícios realizados por ele.\n",
    "Calcular a média de aproveitamento, usando a fórmula: MA = (N1 + N2*2 + N3*3 + ME)/7. A partir da média,\n",
    "informar o conceito de acordo com a tabela:"
   ]
  },
  {
   "cell_type": "code",
   "execution_count": 1,
   "metadata": {},
   "outputs": [],
   "source": [
    "from time import sleep"
   ]
  },
  {
   "cell_type": "code",
   "execution_count": 8,
   "metadata": {},
   "outputs": [],
   "source": [
    "def inputNota():\n",
    "     try:\n",
    "          nota1 = float(input('Digite a primeira nota: '))\n",
    "          nota2 = float(input('Digite a segunda nota: '))\n",
    "          nota3 = float(input('Digite a terceira nota: '))\n",
    "          media = float(input('Digite a média: '))\n",
    "\n",
    "\n",
    "          if nota1 < 0 or nota2 < 0 or nota3 < 0:\n",
    "               raise ValueError\n",
    "          \n",
    "          if media < 0 or media > 10:\n",
    "               raise ValueError\n",
    "\n",
    "          return nota1, nota2, nota3, media\n",
    "     except:\n",
    "          print('Valor inválido!')\n",
    "          sleep(2)\n",
    "          return inputNota()"
   ]
  },
  {
   "cell_type": "code",
   "execution_count": 9,
   "metadata": {},
   "outputs": [
    {
     "name": "stdout",
     "output_type": "stream",
     "text": [
      "Valor inválido!\n",
      "Valor inválido!\n",
      "Valor inválido!\n",
      "Valor inválido!\n",
      "Valor inválido!\n",
      "Valor inválido!\n"
     ]
    }
   ],
   "source": [
    "nota1, nota2, nota3, media = inputNota()\n",
    "\n",
    "ma = (nota1 + nota2 + nota3 * 3 + media) / 7\n",
    "\n",
    "ma_final = ''\n",
    "\n",
    "if ma >= 9:\n",
    "     ma_final = 'A'\n",
    "elif ma >= 7.5:\n",
    "     ma_final = 'B'\n",
    "elif ma >= 6:\n",
    "     ma_final = 'C'\n",
    "elif ma >= 4:\n",
    "     ma_final = 'D'\n",
    "else:\n",
    "     ma_final = 'E'\n",
    "\n",
    "\n",
    "\n",
    "print(f'Média de aproveitamento: {ma_final}')"
   ]
  },
  {
   "attachments": {},
   "cell_type": "markdown",
   "metadata": {},
   "source": [
    "Faça um programa que leia dez números de 0 a 10, e que apresente: \n"
   ]
  },
  {
   "cell_type": "code",
   "execution_count": null,
   "metadata": {},
   "outputs": [],
   "source": [
    "def inputNum(index=''):\n",
    "     try:\n",
    "          num = int(input(f'Digite um número ({index}): '))\n",
    "\n",
    "          if num < 0 or num > 10:\n",
    "               raise ValueError\n",
    "          \n",
    "          return num\n",
    "     except:\n",
    "          print('Valor inválido!')\n",
    "          sleep(2)\n",
    "          return inputNum()"
   ]
  },
  {
   "cell_type": "code",
   "execution_count": null,
   "metadata": {},
   "outputs": [
    {
     "name": "stdout",
     "output_type": "stream",
     "text": [
      "A soma dos valores é: 55\n",
      "A média dos valores é: 5.5\n",
      "O maior valor é: 10\n",
      "O menor valor é: 1\n"
     ]
    }
   ],
   "source": [
    "a = list()\n",
    "\n",
    "for i in range(0, 10):\n",
    "     a.append(inputNum(i+1))\n",
    "\n",
    "print(f'A soma dos valores é: {sum(a)}')\n",
    "print(f'A média dos valores é: {sum(a) / len(a)}')\n",
    "print(f'O maior valor é: {max(a)}')\n",
    "print(f'O menor valor é: {min(a)}')"
   ]
  },
  {
   "attachments": {},
   "cell_type": "markdown",
   "metadata": {},
   "source": [
    "Uma empresa resolveu aumentar os preços dos seus produtos pelo percentual da inflação do ano corrente.\n",
    "Para tanto encomendou a você um programa que irá receber o preço de um produto e um percentual da\n",
    "inflação. Você deverá calcular e retornar o valor de aumento do produto e mostrar o valor\n",
    "     corrigido, já com o acréscimo calculado"
   ]
  },
  {
   "cell_type": "code",
   "execution_count": null,
   "metadata": {},
   "outputs": [],
   "source": [
    "def inputValoresProdutos():\n",
    "     try:\n",
    "          valor = float(input('Digite o valor do produto: '))\n",
    "          inflacao = float(input('Digite a inflação do produto: '))\n",
    "\n",
    "          if valor < 0 or inflacao < 0:\n",
    "               raise ValueError\n",
    "          \n",
    "          return valor, inflacao\n",
    "     except:\n",
    "          print('Valor inválido!')\n",
    "          sleep(2)\n",
    "          return inputValoresProdutos()"
   ]
  },
  {
   "cell_type": "code",
   "execution_count": null,
   "metadata": {},
   "outputs": [],
   "source": [
    "valor, inflacao = inputValoresProdutos()\n",
    "\n",
    "aumento = (valor * inflacao) / 100\n",
    "valor_final = valor + aumento\n",
    "\n",
    "print(f'O produto aumentou: +R${aumento:.2f}')    \n",
    "print(f'Valor final do produto: {valor_final:.2f}')"
   ]
  },
  {
   "attachments": {},
   "cell_type": "markdown",
   "metadata": {},
   "source": [
    "A empresa Kinara concedeu um bônus de 30% do valor do salário a todos os funcionários com tempo de\n",
    "trabalho na empresa superior a 5 anos, 20% aos com 5 anos e de 10% aos demais. Faça um programa que\n",
    "receba o salário e o tempo de serviço de um funcionário, calcule e mostre o valor do bônus recebido por ele."
   ]
  },
  {
   "cell_type": "code",
   "execution_count": 4,
   "metadata": {},
   "outputs": [
    {
     "name": "stdout",
     "output_type": "stream",
     "text": [
      "Você ganhou um aumento de R$40.0\n",
      "Seu salário final é: R$4040.0\n"
     ]
    }
   ],
   "source": [
    "def inputSalario():\n",
    "     try:\n",
    "          salario = float(input('Salário: R$'))\n",
    "          anosTrabalhados = int(input('Anos trabalhados: '))\n",
    "          bonus = 0\n",
    "\n",
    "          if anosTrabalhados > 5:\n",
    "               bonus += 0.05 * salario\n",
    "          elif anosTrabalhados == 5:\n",
    "               bonus += 0.02 * salario\n",
    "          else:\n",
    "               bonus += 0.01 * salario\n",
    "\n",
    "          return salario, bonus\n",
    "\n",
    "     except:\n",
    "          print('Valor inválido!')\n",
    "          sleep(2)\n",
    "          return inputSalario()\n",
    "\n",
    "\n",
    "\n",
    "salario, bonus = inputSalario()\n",
    "print(f'Você ganhou um aumento de R${bonus}')\n",
    "print(f'Seu salário final é: R${salario + bonus}')"
   ]
  }
 ],
 "metadata": {
  "kernelspec": {
   "display_name": "Python 3",
   "language": "python",
   "name": "python3"
  },
  "language_info": {
   "codemirror_mode": {
    "name": "ipython",
    "version": 3
   },
   "file_extension": ".py",
   "mimetype": "text/x-python",
   "name": "python",
   "nbconvert_exporter": "python",
   "pygments_lexer": "ipython3",
   "version": "3.10.7"
  },
  "orig_nbformat": 4
 },
 "nbformat": 4,
 "nbformat_minor": 2
}
