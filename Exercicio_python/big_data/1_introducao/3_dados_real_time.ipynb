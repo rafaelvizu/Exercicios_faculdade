{
 "cells": [
  {
   "cell_type": "code",
   "execution_count": 27,
   "metadata": {},
   "outputs": [],
   "source": [
    "import requests as req\n",
    "import pandas as pd\n",
    "from datetime import datetime\n",
    "import time\n"
   ]
  },
  {
   "cell_type": "code",
   "execution_count": 28,
   "metadata": {},
   "outputs": [],
   "source": [
    "def getData():\n",
    "     response = req.get('https://economia.awesomeapi.com.br/last/USD-BRL,EUR-BRL,HKD-BRL')\n",
    "     cotacoes = response.json()\n",
    "\n",
    "     cotacaoDolar = cotacoes['USDBRL']['bid']\n",
    "     cotacaoEuro = cotacoes['EURBRL']['bid']\n",
    "     cotacao_btc = cotacoes['HKDBRL']['bid']\n",
    "\n",
    "     tabela = pd.read_excel('./data/Cotacao.xlsx')\n",
    "     \n",
    "     totalIndex = len(tabela.index)\n",
    "     print('Total de linhas: ', totalIndex)\n",
    "     \n",
    "     tabela.loc[totalIndex, 'DOLAR/R$'] = float(cotacaoDolar)\n",
    "     tabela.loc[totalIndex, 'EURO/R$'] = float(cotacaoEuro)\n",
    "     tabela.loc[totalIndex, 'HKD/R$'] = float(cotacao_btc)\n",
    "     tabela.loc[totalIndex, 'DATA'] = datetime.now()\n",
    "     \n",
    "\n",
    "     tabela.to_excel('./data/Cotacao.xlsx', index=False)\n",
    "     print('Dados atualizados com sucesso!', datetime.now())   "
   ]
  },
  {
   "cell_type": "code",
   "execution_count": 29,
   "metadata": {},
   "outputs": [],
   "source": [
    "def readData():\n",
    "     return pd.read_excel('./data/Cotacao.xlsx')\n",
    "     "
   ]
  },
  {
   "cell_type": "code",
   "execution_count": null,
   "metadata": {},
   "outputs": [],
   "source": [
    "\n",
    "while True:\n",
    "    getData()\n",
    "    time.sleep(5)   "
   ]
  },
  {
   "cell_type": "code",
   "execution_count": 31,
   "metadata": {},
   "outputs": [
    {
     "data": {
      "application/vnd.plotly.v1+json": {
       "config": {
        "plotlyServerURL": "https://plot.ly"
       },
       "data": [
        {
         "hovertemplate": "Moeda=DOLAR/R$<br>Data=%{x}<br>Cotação=%{y}<extra></extra>",
         "legendgroup": "DOLAR/R$",
         "line": {
          "color": "#636efa",
          "dash": "solid",
          "shape": "spline"
         },
         "marker": {
          "symbol": "circle"
         },
         "mode": "lines",
         "name": "DOLAR/R$",
         "orientation": "v",
         "showlegend": true,
         "type": "scatter",
         "x": [
          "2023-03-15T15:18:42.584000",
          "2023-03-15T15:18:47.827000",
          "2023-03-15T15:18:53.044000",
          "2023-03-15T15:18:58.268000",
          "2023-03-15T15:19:03.476000",
          "2023-03-15T15:19:08.667000",
          "2023-03-15T15:19:13.885000",
          "2023-03-15T15:19:19.100000",
          "2023-03-15T15:19:24.293000",
          "2023-03-15T15:19:29.513000",
          "2023-03-15T15:19:34.749000",
          "2023-03-15T15:19:39.970000",
          "2023-03-15T15:19:45.199000",
          "2023-03-15T15:19:50.402000",
          "2023-03-15T15:19:55.592000",
          "2023-03-15T15:20:00.796000",
          "2023-03-15T15:20:05.986000",
          "2023-03-15T15:20:11.181000",
          "2023-03-15T15:20:16.395000",
          "2023-03-15T15:20:21.606000",
          "2023-03-15T15:20:26.833000",
          "2023-03-15T15:20:32.060000",
          "2023-03-15T15:20:37.367000",
          "2023-03-15T15:20:42.600000"
         ],
         "xaxis": "x",
         "y": [
          5.3138,
          5.311,
          5.311,
          5.311,
          5.311,
          5.311,
          5.311,
          5.311,
          5.311,
          5.311,
          5.311,
          5.311,
          5.311,
          5.3071,
          5.3071,
          5.3071,
          5.3071,
          5.3071,
          5.3071,
          5.3083,
          5.3083,
          5.3083,
          5.3083,
          5.3083
         ],
         "yaxis": "y"
        },
        {
         "hovertemplate": "Moeda=EURO/R$<br>Data=%{x}<br>Cotação=%{y}<extra></extra>",
         "legendgroup": "EURO/R$",
         "line": {
          "color": "#EF553B",
          "dash": "solid",
          "shape": "spline"
         },
         "marker": {
          "symbol": "circle"
         },
         "mode": "lines",
         "name": "EURO/R$",
         "orientation": "v",
         "showlegend": true,
         "type": "scatter",
         "x": [
          "2023-03-15T15:18:42.584000",
          "2023-03-15T15:18:47.827000",
          "2023-03-15T15:18:53.044000",
          "2023-03-15T15:18:58.268000",
          "2023-03-15T15:19:03.476000",
          "2023-03-15T15:19:08.667000",
          "2023-03-15T15:19:13.885000",
          "2023-03-15T15:19:19.100000",
          "2023-03-15T15:19:24.293000",
          "2023-03-15T15:19:29.513000",
          "2023-03-15T15:19:34.749000",
          "2023-03-15T15:19:39.970000",
          "2023-03-15T15:19:45.199000",
          "2023-03-15T15:19:50.402000",
          "2023-03-15T15:19:55.592000",
          "2023-03-15T15:20:00.796000",
          "2023-03-15T15:20:05.986000",
          "2023-03-15T15:20:11.181000",
          "2023-03-15T15:20:16.395000",
          "2023-03-15T15:20:21.606000",
          "2023-03-15T15:20:26.833000",
          "2023-03-15T15:20:32.060000",
          "2023-03-15T15:20:37.367000",
          "2023-03-15T15:20:42.600000"
         ],
         "xaxis": "x",
         "y": [
          5.6054,
          5.6028,
          5.6028,
          5.6028,
          5.6028,
          5.6028,
          5.6028,
          5.6028,
          5.6028,
          5.6028,
          5.6028,
          5.6028,
          5.6028,
          5.5984,
          5.5984,
          5.5984,
          5.5984,
          5.5984,
          5.5984,
          5.5999,
          5.5999,
          5.5999,
          5.5999,
          5.5999
         ],
         "yaxis": "y"
        },
        {
         "hovertemplate": "Moeda=HKD/R$<br>Data=%{x}<br>Cotação=%{y}<extra></extra>",
         "legendgroup": "HKD/R$",
         "line": {
          "color": "#00cc96",
          "dash": "solid",
          "shape": "spline"
         },
         "marker": {
          "symbol": "circle"
         },
         "mode": "lines",
         "name": "HKD/R$",
         "orientation": "v",
         "showlegend": true,
         "type": "scatter",
         "x": [
          "2023-03-15T15:18:42.584000",
          "2023-03-15T15:18:47.827000",
          "2023-03-15T15:18:53.044000",
          "2023-03-15T15:18:58.268000",
          "2023-03-15T15:19:03.476000",
          "2023-03-15T15:19:08.667000",
          "2023-03-15T15:19:13.885000",
          "2023-03-15T15:19:19.100000",
          "2023-03-15T15:19:24.293000",
          "2023-03-15T15:19:29.513000",
          "2023-03-15T15:19:34.749000",
          "2023-03-15T15:19:39.970000",
          "2023-03-15T15:19:45.199000",
          "2023-03-15T15:19:50.402000",
          "2023-03-15T15:19:55.592000",
          "2023-03-15T15:20:00.796000",
          "2023-03-15T15:20:05.986000",
          "2023-03-15T15:20:11.181000",
          "2023-03-15T15:20:16.395000",
          "2023-03-15T15:20:21.606000",
          "2023-03-15T15:20:26.833000",
          "2023-03-15T15:20:32.060000",
          "2023-03-15T15:20:37.367000",
          "2023-03-15T15:20:42.600000"
         ],
         "xaxis": "x",
         "y": [
          0.677,
          0.677,
          0.677,
          0.677,
          0.677,
          0.677,
          0.677,
          0.677,
          0.677,
          0.677,
          0.677,
          0.677,
          0.677,
          0.6763,
          0.6763,
          0.6763,
          0.6763,
          0.6763,
          0.6763,
          0.6763,
          0.6763,
          0.6763,
          0.6763,
          0.6763
         ],
         "yaxis": "y"
        }
       ],
       "layout": {
        "height": 500,
        "legend": {
         "title": {
          "text": "Moeda"
         },
         "tracegroupgap": 0
        },
        "template": {
         "data": {
          "bar": [
           {
            "error_x": {
             "color": "#2a3f5f"
            },
            "error_y": {
             "color": "#2a3f5f"
            },
            "marker": {
             "line": {
              "color": "#E5ECF6",
              "width": 0.5
             },
             "pattern": {
              "fillmode": "overlay",
              "size": 10,
              "solidity": 0.2
             }
            },
            "type": "bar"
           }
          ],
          "barpolar": [
           {
            "marker": {
             "line": {
              "color": "#E5ECF6",
              "width": 0.5
             },
             "pattern": {
              "fillmode": "overlay",
              "size": 10,
              "solidity": 0.2
             }
            },
            "type": "barpolar"
           }
          ],
          "carpet": [
           {
            "aaxis": {
             "endlinecolor": "#2a3f5f",
             "gridcolor": "white",
             "linecolor": "white",
             "minorgridcolor": "white",
             "startlinecolor": "#2a3f5f"
            },
            "baxis": {
             "endlinecolor": "#2a3f5f",
             "gridcolor": "white",
             "linecolor": "white",
             "minorgridcolor": "white",
             "startlinecolor": "#2a3f5f"
            },
            "type": "carpet"
           }
          ],
          "choropleth": [
           {
            "colorbar": {
             "outlinewidth": 0,
             "ticks": ""
            },
            "type": "choropleth"
           }
          ],
          "contour": [
           {
            "colorbar": {
             "outlinewidth": 0,
             "ticks": ""
            },
            "colorscale": [
             [
              0,
              "#0d0887"
             ],
             [
              0.1111111111111111,
              "#46039f"
             ],
             [
              0.2222222222222222,
              "#7201a8"
             ],
             [
              0.3333333333333333,
              "#9c179e"
             ],
             [
              0.4444444444444444,
              "#bd3786"
             ],
             [
              0.5555555555555556,
              "#d8576b"
             ],
             [
              0.6666666666666666,
              "#ed7953"
             ],
             [
              0.7777777777777778,
              "#fb9f3a"
             ],
             [
              0.8888888888888888,
              "#fdca26"
             ],
             [
              1,
              "#f0f921"
             ]
            ],
            "type": "contour"
           }
          ],
          "contourcarpet": [
           {
            "colorbar": {
             "outlinewidth": 0,
             "ticks": ""
            },
            "type": "contourcarpet"
           }
          ],
          "heatmap": [
           {
            "colorbar": {
             "outlinewidth": 0,
             "ticks": ""
            },
            "colorscale": [
             [
              0,
              "#0d0887"
             ],
             [
              0.1111111111111111,
              "#46039f"
             ],
             [
              0.2222222222222222,
              "#7201a8"
             ],
             [
              0.3333333333333333,
              "#9c179e"
             ],
             [
              0.4444444444444444,
              "#bd3786"
             ],
             [
              0.5555555555555556,
              "#d8576b"
             ],
             [
              0.6666666666666666,
              "#ed7953"
             ],
             [
              0.7777777777777778,
              "#fb9f3a"
             ],
             [
              0.8888888888888888,
              "#fdca26"
             ],
             [
              1,
              "#f0f921"
             ]
            ],
            "type": "heatmap"
           }
          ],
          "heatmapgl": [
           {
            "colorbar": {
             "outlinewidth": 0,
             "ticks": ""
            },
            "colorscale": [
             [
              0,
              "#0d0887"
             ],
             [
              0.1111111111111111,
              "#46039f"
             ],
             [
              0.2222222222222222,
              "#7201a8"
             ],
             [
              0.3333333333333333,
              "#9c179e"
             ],
             [
              0.4444444444444444,
              "#bd3786"
             ],
             [
              0.5555555555555556,
              "#d8576b"
             ],
             [
              0.6666666666666666,
              "#ed7953"
             ],
             [
              0.7777777777777778,
              "#fb9f3a"
             ],
             [
              0.8888888888888888,
              "#fdca26"
             ],
             [
              1,
              "#f0f921"
             ]
            ],
            "type": "heatmapgl"
           }
          ],
          "histogram": [
           {
            "marker": {
             "pattern": {
              "fillmode": "overlay",
              "size": 10,
              "solidity": 0.2
             }
            },
            "type": "histogram"
           }
          ],
          "histogram2d": [
           {
            "colorbar": {
             "outlinewidth": 0,
             "ticks": ""
            },
            "colorscale": [
             [
              0,
              "#0d0887"
             ],
             [
              0.1111111111111111,
              "#46039f"
             ],
             [
              0.2222222222222222,
              "#7201a8"
             ],
             [
              0.3333333333333333,
              "#9c179e"
             ],
             [
              0.4444444444444444,
              "#bd3786"
             ],
             [
              0.5555555555555556,
              "#d8576b"
             ],
             [
              0.6666666666666666,
              "#ed7953"
             ],
             [
              0.7777777777777778,
              "#fb9f3a"
             ],
             [
              0.8888888888888888,
              "#fdca26"
             ],
             [
              1,
              "#f0f921"
             ]
            ],
            "type": "histogram2d"
           }
          ],
          "histogram2dcontour": [
           {
            "colorbar": {
             "outlinewidth": 0,
             "ticks": ""
            },
            "colorscale": [
             [
              0,
              "#0d0887"
             ],
             [
              0.1111111111111111,
              "#46039f"
             ],
             [
              0.2222222222222222,
              "#7201a8"
             ],
             [
              0.3333333333333333,
              "#9c179e"
             ],
             [
              0.4444444444444444,
              "#bd3786"
             ],
             [
              0.5555555555555556,
              "#d8576b"
             ],
             [
              0.6666666666666666,
              "#ed7953"
             ],
             [
              0.7777777777777778,
              "#fb9f3a"
             ],
             [
              0.8888888888888888,
              "#fdca26"
             ],
             [
              1,
              "#f0f921"
             ]
            ],
            "type": "histogram2dcontour"
           }
          ],
          "mesh3d": [
           {
            "colorbar": {
             "outlinewidth": 0,
             "ticks": ""
            },
            "type": "mesh3d"
           }
          ],
          "parcoords": [
           {
            "line": {
             "colorbar": {
              "outlinewidth": 0,
              "ticks": ""
             }
            },
            "type": "parcoords"
           }
          ],
          "pie": [
           {
            "automargin": true,
            "type": "pie"
           }
          ],
          "scatter": [
           {
            "fillpattern": {
             "fillmode": "overlay",
             "size": 10,
             "solidity": 0.2
            },
            "type": "scatter"
           }
          ],
          "scatter3d": [
           {
            "line": {
             "colorbar": {
              "outlinewidth": 0,
              "ticks": ""
             }
            },
            "marker": {
             "colorbar": {
              "outlinewidth": 0,
              "ticks": ""
             }
            },
            "type": "scatter3d"
           }
          ],
          "scattercarpet": [
           {
            "marker": {
             "colorbar": {
              "outlinewidth": 0,
              "ticks": ""
             }
            },
            "type": "scattercarpet"
           }
          ],
          "scattergeo": [
           {
            "marker": {
             "colorbar": {
              "outlinewidth": 0,
              "ticks": ""
             }
            },
            "type": "scattergeo"
           }
          ],
          "scattergl": [
           {
            "marker": {
             "colorbar": {
              "outlinewidth": 0,
              "ticks": ""
             }
            },
            "type": "scattergl"
           }
          ],
          "scattermapbox": [
           {
            "marker": {
             "colorbar": {
              "outlinewidth": 0,
              "ticks": ""
             }
            },
            "type": "scattermapbox"
           }
          ],
          "scatterpolar": [
           {
            "marker": {
             "colorbar": {
              "outlinewidth": 0,
              "ticks": ""
             }
            },
            "type": "scatterpolar"
           }
          ],
          "scatterpolargl": [
           {
            "marker": {
             "colorbar": {
              "outlinewidth": 0,
              "ticks": ""
             }
            },
            "type": "scatterpolargl"
           }
          ],
          "scatterternary": [
           {
            "marker": {
             "colorbar": {
              "outlinewidth": 0,
              "ticks": ""
             }
            },
            "type": "scatterternary"
           }
          ],
          "surface": [
           {
            "colorbar": {
             "outlinewidth": 0,
             "ticks": ""
            },
            "colorscale": [
             [
              0,
              "#0d0887"
             ],
             [
              0.1111111111111111,
              "#46039f"
             ],
             [
              0.2222222222222222,
              "#7201a8"
             ],
             [
              0.3333333333333333,
              "#9c179e"
             ],
             [
              0.4444444444444444,
              "#bd3786"
             ],
             [
              0.5555555555555556,
              "#d8576b"
             ],
             [
              0.6666666666666666,
              "#ed7953"
             ],
             [
              0.7777777777777778,
              "#fb9f3a"
             ],
             [
              0.8888888888888888,
              "#fdca26"
             ],
             [
              1,
              "#f0f921"
             ]
            ],
            "type": "surface"
           }
          ],
          "table": [
           {
            "cells": {
             "fill": {
              "color": "#EBF0F8"
             },
             "line": {
              "color": "white"
             }
            },
            "header": {
             "fill": {
              "color": "#C8D4E3"
             },
             "line": {
              "color": "white"
             }
            },
            "type": "table"
           }
          ]
         },
         "layout": {
          "annotationdefaults": {
           "arrowcolor": "#2a3f5f",
           "arrowhead": 0,
           "arrowwidth": 1
          },
          "autotypenumbers": "strict",
          "coloraxis": {
           "colorbar": {
            "outlinewidth": 0,
            "ticks": ""
           }
          },
          "colorscale": {
           "diverging": [
            [
             0,
             "#8e0152"
            ],
            [
             0.1,
             "#c51b7d"
            ],
            [
             0.2,
             "#de77ae"
            ],
            [
             0.3,
             "#f1b6da"
            ],
            [
             0.4,
             "#fde0ef"
            ],
            [
             0.5,
             "#f7f7f7"
            ],
            [
             0.6,
             "#e6f5d0"
            ],
            [
             0.7,
             "#b8e186"
            ],
            [
             0.8,
             "#7fbc41"
            ],
            [
             0.9,
             "#4d9221"
            ],
            [
             1,
             "#276419"
            ]
           ],
           "sequential": [
            [
             0,
             "#0d0887"
            ],
            [
             0.1111111111111111,
             "#46039f"
            ],
            [
             0.2222222222222222,
             "#7201a8"
            ],
            [
             0.3333333333333333,
             "#9c179e"
            ],
            [
             0.4444444444444444,
             "#bd3786"
            ],
            [
             0.5555555555555556,
             "#d8576b"
            ],
            [
             0.6666666666666666,
             "#ed7953"
            ],
            [
             0.7777777777777778,
             "#fb9f3a"
            ],
            [
             0.8888888888888888,
             "#fdca26"
            ],
            [
             1,
             "#f0f921"
            ]
           ],
           "sequentialminus": [
            [
             0,
             "#0d0887"
            ],
            [
             0.1111111111111111,
             "#46039f"
            ],
            [
             0.2222222222222222,
             "#7201a8"
            ],
            [
             0.3333333333333333,
             "#9c179e"
            ],
            [
             0.4444444444444444,
             "#bd3786"
            ],
            [
             0.5555555555555556,
             "#d8576b"
            ],
            [
             0.6666666666666666,
             "#ed7953"
            ],
            [
             0.7777777777777778,
             "#fb9f3a"
            ],
            [
             0.8888888888888888,
             "#fdca26"
            ],
            [
             1,
             "#f0f921"
            ]
           ]
          },
          "colorway": [
           "#636efa",
           "#EF553B",
           "#00cc96",
           "#ab63fa",
           "#FFA15A",
           "#19d3f3",
           "#FF6692",
           "#B6E880",
           "#FF97FF",
           "#FECB52"
          ],
          "font": {
           "color": "#2a3f5f"
          },
          "geo": {
           "bgcolor": "white",
           "lakecolor": "white",
           "landcolor": "#E5ECF6",
           "showlakes": true,
           "showland": true,
           "subunitcolor": "white"
          },
          "hoverlabel": {
           "align": "left"
          },
          "hovermode": "closest",
          "mapbox": {
           "style": "light"
          },
          "paper_bgcolor": "white",
          "plot_bgcolor": "#E5ECF6",
          "polar": {
           "angularaxis": {
            "gridcolor": "white",
            "linecolor": "white",
            "ticks": ""
           },
           "bgcolor": "#E5ECF6",
           "radialaxis": {
            "gridcolor": "white",
            "linecolor": "white",
            "ticks": ""
           }
          },
          "scene": {
           "xaxis": {
            "backgroundcolor": "#E5ECF6",
            "gridcolor": "white",
            "gridwidth": 2,
            "linecolor": "white",
            "showbackground": true,
            "ticks": "",
            "zerolinecolor": "white"
           },
           "yaxis": {
            "backgroundcolor": "#E5ECF6",
            "gridcolor": "white",
            "gridwidth": 2,
            "linecolor": "white",
            "showbackground": true,
            "ticks": "",
            "zerolinecolor": "white"
           },
           "zaxis": {
            "backgroundcolor": "#E5ECF6",
            "gridcolor": "white",
            "gridwidth": 2,
            "linecolor": "white",
            "showbackground": true,
            "ticks": "",
            "zerolinecolor": "white"
           }
          },
          "shapedefaults": {
           "line": {
            "color": "#2a3f5f"
           }
          },
          "ternary": {
           "aaxis": {
            "gridcolor": "white",
            "linecolor": "white",
            "ticks": ""
           },
           "baxis": {
            "gridcolor": "white",
            "linecolor": "white",
            "ticks": ""
           },
           "bgcolor": "#E5ECF6",
           "caxis": {
            "gridcolor": "white",
            "linecolor": "white",
            "ticks": ""
           }
          },
          "title": {
           "x": 0.05
          },
          "xaxis": {
           "automargin": true,
           "gridcolor": "white",
           "linecolor": "white",
           "ticks": "",
           "title": {
            "standoff": 15
           },
           "zerolinecolor": "white",
           "zerolinewidth": 2
          },
          "yaxis": {
           "automargin": true,
           "gridcolor": "white",
           "linecolor": "white",
           "ticks": "",
           "title": {
            "standoff": 15
           },
           "zerolinecolor": "white",
           "zerolinewidth": 2
          }
         }
        },
        "title": {
         "text": "Cotação de moedas"
        },
        "width": 500,
        "xaxis": {
         "anchor": "y",
         "domain": [
          0,
          1
         ],
         "title": {
          "text": "Data"
         }
        },
        "yaxis": {
         "anchor": "x",
         "domain": [
          0,
          1
         ],
         "title": {
          "text": "Cotação"
         }
        }
       }
      }
     },
     "metadata": {},
     "output_type": "display_data"
    },
    {
     "data": {
      "text/html": [
       "<div>\n",
       "<style scoped>\n",
       "    .dataframe tbody tr th:only-of-type {\n",
       "        vertical-align: middle;\n",
       "    }\n",
       "\n",
       "    .dataframe tbody tr th {\n",
       "        vertical-align: top;\n",
       "    }\n",
       "\n",
       "    .dataframe thead th {\n",
       "        text-align: right;\n",
       "    }\n",
       "</style>\n",
       "<table border=\"1\" class=\"dataframe\">\n",
       "  <thead>\n",
       "    <tr style=\"text-align: right;\">\n",
       "      <th></th>\n",
       "      <th>DOLAR/R$</th>\n",
       "      <th>EURO/R$</th>\n",
       "      <th>HKD/R$</th>\n",
       "      <th>DATA</th>\n",
       "    </tr>\n",
       "  </thead>\n",
       "  <tbody>\n",
       "    <tr>\n",
       "      <th>0</th>\n",
       "      <td>5.3138</td>\n",
       "      <td>5.6054</td>\n",
       "      <td>0.6770</td>\n",
       "      <td>2023-03-15 15:18:42.584</td>\n",
       "    </tr>\n",
       "    <tr>\n",
       "      <th>1</th>\n",
       "      <td>5.3110</td>\n",
       "      <td>5.6028</td>\n",
       "      <td>0.6770</td>\n",
       "      <td>2023-03-15 15:18:47.827</td>\n",
       "    </tr>\n",
       "    <tr>\n",
       "      <th>2</th>\n",
       "      <td>5.3110</td>\n",
       "      <td>5.6028</td>\n",
       "      <td>0.6770</td>\n",
       "      <td>2023-03-15 15:18:53.044</td>\n",
       "    </tr>\n",
       "    <tr>\n",
       "      <th>3</th>\n",
       "      <td>5.3110</td>\n",
       "      <td>5.6028</td>\n",
       "      <td>0.6770</td>\n",
       "      <td>2023-03-15 15:18:58.268</td>\n",
       "    </tr>\n",
       "    <tr>\n",
       "      <th>4</th>\n",
       "      <td>5.3110</td>\n",
       "      <td>5.6028</td>\n",
       "      <td>0.6770</td>\n",
       "      <td>2023-03-15 15:19:03.476</td>\n",
       "    </tr>\n",
       "    <tr>\n",
       "      <th>5</th>\n",
       "      <td>5.3110</td>\n",
       "      <td>5.6028</td>\n",
       "      <td>0.6770</td>\n",
       "      <td>2023-03-15 15:19:08.667</td>\n",
       "    </tr>\n",
       "    <tr>\n",
       "      <th>6</th>\n",
       "      <td>5.3110</td>\n",
       "      <td>5.6028</td>\n",
       "      <td>0.6770</td>\n",
       "      <td>2023-03-15 15:19:13.885</td>\n",
       "    </tr>\n",
       "    <tr>\n",
       "      <th>7</th>\n",
       "      <td>5.3110</td>\n",
       "      <td>5.6028</td>\n",
       "      <td>0.6770</td>\n",
       "      <td>2023-03-15 15:19:19.100</td>\n",
       "    </tr>\n",
       "    <tr>\n",
       "      <th>8</th>\n",
       "      <td>5.3110</td>\n",
       "      <td>5.6028</td>\n",
       "      <td>0.6770</td>\n",
       "      <td>2023-03-15 15:19:24.293</td>\n",
       "    </tr>\n",
       "    <tr>\n",
       "      <th>9</th>\n",
       "      <td>5.3110</td>\n",
       "      <td>5.6028</td>\n",
       "      <td>0.6770</td>\n",
       "      <td>2023-03-15 15:19:29.513</td>\n",
       "    </tr>\n",
       "    <tr>\n",
       "      <th>10</th>\n",
       "      <td>5.3110</td>\n",
       "      <td>5.6028</td>\n",
       "      <td>0.6770</td>\n",
       "      <td>2023-03-15 15:19:34.749</td>\n",
       "    </tr>\n",
       "    <tr>\n",
       "      <th>11</th>\n",
       "      <td>5.3110</td>\n",
       "      <td>5.6028</td>\n",
       "      <td>0.6770</td>\n",
       "      <td>2023-03-15 15:19:39.970</td>\n",
       "    </tr>\n",
       "    <tr>\n",
       "      <th>12</th>\n",
       "      <td>5.3110</td>\n",
       "      <td>5.6028</td>\n",
       "      <td>0.6770</td>\n",
       "      <td>2023-03-15 15:19:45.199</td>\n",
       "    </tr>\n",
       "    <tr>\n",
       "      <th>13</th>\n",
       "      <td>5.3071</td>\n",
       "      <td>5.5984</td>\n",
       "      <td>0.6763</td>\n",
       "      <td>2023-03-15 15:19:50.402</td>\n",
       "    </tr>\n",
       "    <tr>\n",
       "      <th>14</th>\n",
       "      <td>5.3071</td>\n",
       "      <td>5.5984</td>\n",
       "      <td>0.6763</td>\n",
       "      <td>2023-03-15 15:19:55.592</td>\n",
       "    </tr>\n",
       "    <tr>\n",
       "      <th>15</th>\n",
       "      <td>5.3071</td>\n",
       "      <td>5.5984</td>\n",
       "      <td>0.6763</td>\n",
       "      <td>2023-03-15 15:20:00.796</td>\n",
       "    </tr>\n",
       "    <tr>\n",
       "      <th>16</th>\n",
       "      <td>5.3071</td>\n",
       "      <td>5.5984</td>\n",
       "      <td>0.6763</td>\n",
       "      <td>2023-03-15 15:20:05.986</td>\n",
       "    </tr>\n",
       "    <tr>\n",
       "      <th>17</th>\n",
       "      <td>5.3071</td>\n",
       "      <td>5.5984</td>\n",
       "      <td>0.6763</td>\n",
       "      <td>2023-03-15 15:20:11.181</td>\n",
       "    </tr>\n",
       "    <tr>\n",
       "      <th>18</th>\n",
       "      <td>5.3071</td>\n",
       "      <td>5.5984</td>\n",
       "      <td>0.6763</td>\n",
       "      <td>2023-03-15 15:20:16.395</td>\n",
       "    </tr>\n",
       "    <tr>\n",
       "      <th>19</th>\n",
       "      <td>5.3083</td>\n",
       "      <td>5.5999</td>\n",
       "      <td>0.6763</td>\n",
       "      <td>2023-03-15 15:20:21.606</td>\n",
       "    </tr>\n",
       "    <tr>\n",
       "      <th>20</th>\n",
       "      <td>5.3083</td>\n",
       "      <td>5.5999</td>\n",
       "      <td>0.6763</td>\n",
       "      <td>2023-03-15 15:20:26.833</td>\n",
       "    </tr>\n",
       "    <tr>\n",
       "      <th>21</th>\n",
       "      <td>5.3083</td>\n",
       "      <td>5.5999</td>\n",
       "      <td>0.6763</td>\n",
       "      <td>2023-03-15 15:20:32.060</td>\n",
       "    </tr>\n",
       "    <tr>\n",
       "      <th>22</th>\n",
       "      <td>5.3083</td>\n",
       "      <td>5.5999</td>\n",
       "      <td>0.6763</td>\n",
       "      <td>2023-03-15 15:20:37.367</td>\n",
       "    </tr>\n",
       "    <tr>\n",
       "      <th>23</th>\n",
       "      <td>5.3083</td>\n",
       "      <td>5.5999</td>\n",
       "      <td>0.6763</td>\n",
       "      <td>2023-03-15 15:20:42.600</td>\n",
       "    </tr>\n",
       "  </tbody>\n",
       "</table>\n",
       "</div>"
      ],
      "text/plain": [
       "    DOLAR/R$  EURO/R$  HKD/R$                    DATA\n",
       "0     5.3138   5.6054  0.6770 2023-03-15 15:18:42.584\n",
       "1     5.3110   5.6028  0.6770 2023-03-15 15:18:47.827\n",
       "2     5.3110   5.6028  0.6770 2023-03-15 15:18:53.044\n",
       "3     5.3110   5.6028  0.6770 2023-03-15 15:18:58.268\n",
       "4     5.3110   5.6028  0.6770 2023-03-15 15:19:03.476\n",
       "5     5.3110   5.6028  0.6770 2023-03-15 15:19:08.667\n",
       "6     5.3110   5.6028  0.6770 2023-03-15 15:19:13.885\n",
       "7     5.3110   5.6028  0.6770 2023-03-15 15:19:19.100\n",
       "8     5.3110   5.6028  0.6770 2023-03-15 15:19:24.293\n",
       "9     5.3110   5.6028  0.6770 2023-03-15 15:19:29.513\n",
       "10    5.3110   5.6028  0.6770 2023-03-15 15:19:34.749\n",
       "11    5.3110   5.6028  0.6770 2023-03-15 15:19:39.970\n",
       "12    5.3110   5.6028  0.6770 2023-03-15 15:19:45.199\n",
       "13    5.3071   5.5984  0.6763 2023-03-15 15:19:50.402\n",
       "14    5.3071   5.5984  0.6763 2023-03-15 15:19:55.592\n",
       "15    5.3071   5.5984  0.6763 2023-03-15 15:20:00.796\n",
       "16    5.3071   5.5984  0.6763 2023-03-15 15:20:05.986\n",
       "17    5.3071   5.5984  0.6763 2023-03-15 15:20:11.181\n",
       "18    5.3071   5.5984  0.6763 2023-03-15 15:20:16.395\n",
       "19    5.3083   5.5999  0.6763 2023-03-15 15:20:21.606\n",
       "20    5.3083   5.5999  0.6763 2023-03-15 15:20:26.833\n",
       "21    5.3083   5.5999  0.6763 2023-03-15 15:20:32.060\n",
       "22    5.3083   5.5999  0.6763 2023-03-15 15:20:37.367\n",
       "23    5.3083   5.5999  0.6763 2023-03-15 15:20:42.600"
      ]
     },
     "execution_count": 31,
     "metadata": {},
     "output_type": "execute_result"
    }
   ],
   "source": [
    "import plotly.express as px\n",
    "\n",
    "df = readData()\n",
    "\n",
    "fig = px.line(df, x='DATA', y=['DOLAR/R$', 'EURO/R$', 'HKD/R$'], width=500, height=500, title='Cotação de moedas', labels={'value':'Cotação', 'variable':'Moeda', 'DATA':'Data'}, line_shape='spline', render_mode='svg')\n",
    "\n",
    "fig.show()\n",
    "df\n"
   ]
  }
 ],
 "metadata": {
  "kernelspec": {
   "display_name": "env",
   "language": "python",
   "name": "python3"
  },
  "language_info": {
   "codemirror_mode": {
    "name": "ipython",
    "version": 3
   },
   "file_extension": ".py",
   "mimetype": "text/x-python",
   "name": "python",
   "nbconvert_exporter": "python",
   "pygments_lexer": "ipython3",
   "version": "3.10.7"
  },
  "orig_nbformat": 4
 },
 "nbformat": 4,
 "nbformat_minor": 2
}
